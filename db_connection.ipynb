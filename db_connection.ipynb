{
 "cells": [
  {
   "cell_type": "code",
   "execution_count": null,
   "id": "initial_id",
   "metadata": {
    "collapsed": true
   },
   "outputs": [],
   "source": [
    "## Подключение к БД\n",
    "\n",
    "from passwords import USER_NAME, USER_PASSWORD, DATABASE_DOMAIN, DATABASE_PORT, DATABASE_NAME\n",
    "from sqlalchemy import create_engine, Column, Integer, String, Date, TEXT\n",
    "from sqlalchemy.orm import sessionmaker\n",
    "from sqlalchemy.orm import declarative_base\n",
    "\n",
    "Base =declarative_base()\n",
    "engine = create_engine(f'postgresql+psycopg2://{USER_NAME}:{USER_PASSWORD}@{DATABASE_DOMAIN}:{DATABASE_PORT}/{DATABASE_NAME}')\n",
    "Session = sessionmaker(bind=engine)\n",
    "session = Session()"
   ]
  },
  {
   "cell_type": "code",
   "outputs": [],
   "source": [
    "## Создание классов для ORM\n",
    "\n",
    "class Video(Base):\n",
    "    __tablename__ = 'videos'\n",
    "    id = Column(Integer, autoincrement=True, primary_key=True)\n",
    "    url = Column(String)\n",
    "    title = Column(String)\n",
    "    description = Column(String)\n",
    "    hits = Column(Integer)\n",
    "    duration = Column(Integer)\n",
    "    likes = Column(Integer)\n",
    "    dislikes = Column(Integer)\n",
    "    comments_count = Column(Integer)\n",
    "    author_id = Column(Integer)\n",
    "    created_ts = Column(Date)\n",
    "    publication_ts = Column(Date)"
   ],
   "metadata": {
    "collapsed": false
   },
   "id": "5c06d69f09d3991a",
   "execution_count": null
  },
  {
   "cell_type": "code",
   "outputs": [],
   "source": [
    "class Channel(Base):\n",
    "    __tablename__ = 'channels'\n",
    "    channel_id = Column(String, autoincrement=True, primary_key=True)\n",
    "    channel_description = Column(String)\n",
    "    channel_subscribers = Column(Integer)"
   ],
   "metadata": {
    "collapsed": false
   },
   "id": "a3bc90d3e5edb02d",
   "execution_count": null
  },
  {
   "cell_type": "code",
   "outputs": [],
   "source": [
    "class Comment(Base):\n",
    "    __tablename__ = 'comments'\n",
    "    id = Column(String, autoincrement=True, primary_key=True)\n",
    "    name = Column(String)\n",
    "    content = Column(String)"
   ],
   "metadata": {
    "collapsed": false
   },
   "id": "6980b515d2c2e067"
  },
  {
   "cell_type": "code",
   "outputs": [],
   "source": [
    "import pandas as pd\n",
    "\n",
    "videos_df = pd.read_csv('./data/videos.csv')\n",
    "videos_df"
   ],
   "metadata": {
    "collapsed": false
   },
   "id": "ab2473eef70b7fb",
   "execution_count": null
  },
  {
   "cell_type": "code",
   "outputs": [],
   "source": [
    "videos_df.to_sql('videos', con=engine, if_exists='append', index=False, )"
   ],
   "metadata": {
    "collapsed": false
   },
   "id": "1d4c20c1329a785d",
   "execution_count": null
  }
 ],
 "metadata": {
  "kernelspec": {
   "display_name": "Python 3",
   "language": "python",
   "name": "python3"
  },
  "language_info": {
   "codemirror_mode": {
    "name": "ipython",
    "version": 2
   },
   "file_extension": ".py",
   "mimetype": "text/x-python",
   "name": "python",
   "nbconvert_exporter": "python",
   "pygments_lexer": "ipython2",
   "version": "2.7.6"
  }
 },
 "nbformat": 4,
 "nbformat_minor": 5
}
