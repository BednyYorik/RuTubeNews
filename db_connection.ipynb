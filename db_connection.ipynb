{
 "cells": [
  {
   "cell_type": "code",
   "execution_count": null,
   "id": "initial_id",
   "metadata": {
    "collapsed": true
   },
   "outputs": [],
   "source": [
    "## Подключение к БД\n",
    "\n",
    "from passwords import USER_NAME, USER_PASSWORD, DATABASE_DOMAIN, DATABASE_PORT, DATABASE_NAME\n",
    "from sqlalchemy import create_engine, Column, Integer, String, Date, Boolean\n",
    "from sqlalchemy.orm import sessionmaker\n",
    "from sqlalchemy.orm import declarative_base\n",
    "\n",
    "Base =declarative_base()\n",
    "engine = create_engine(f'postgresql+psycopg2://{USER_NAME}:{USER_PASSWORD}@{DATABASE_DOMAIN}:{DATABASE_PORT}/{DATABASE_NAME}')\n",
    "Session = sessionmaker(bind=engine)\n",
    "session = Session()"
   ]
  },
  {
   "cell_type": "code",
   "outputs": [],
   "source": [
    "## Создание классов для ORM\n",
    "\n",
    "class Video(Base):\n",
    "    __tablename__ = 'videos'\n",
    "    id = Column(Integer, autoincrement=True, primary_key=True)\n",
    "    url = Column(String)\n",
    "    title = Column(String)\n",
    "    description = Column(String)\n",
    "    hits = Column(Integer)\n",
    "    duration = Column(Integer)\n",
    "    likes = Column(Integer)\n",
    "    dislikes = Column(Integer)\n",
    "    comments_count = Column(Integer)\n",
    "    author_id = Column(Integer)\n",
    "    created_ts = Column(Date)\n",
    "    publication_ts = Column(Date)"
   ],
   "metadata": {
    "collapsed": false
   },
   "id": "5c06d69f09d3991a",
   "execution_count": null
  },
  {
   "cell_type": "code",
   "outputs": [],
   "source": [
    "class Channel(Base):\n",
    "    __tablename__ = 'channels'\n",
    "    channel_id = Column(Integer, primary_key=True)\n",
    "    channel_name = Column(String)\n",
    "    channel_description = Column(String)\n",
    "    followers = Column(Integer)\n",
    "    is_official = Column(Boolean)"
   ],
   "metadata": {
    "collapsed": false
   },
   "id": "a3bc90d3e5edb02d",
   "execution_count": null
  },
  {
   "cell_type": "code",
   "outputs": [],
   "source": [
    "class Comment(Base):\n",
    "    __tablename__ = 'comments'\n",
    "    id = Column(String, primary_key=True)\n",
    "    video_id = Column(String)\n",
    "    user_id = Column(Integer)\n",
    "    text = Column(String)\n",
    "    created_ts = Column(Date)\n",
    "    likes = Column(Integer)\n",
    "    dislikes = Column(Integer)\n",
    "    replies_count = Column(Integer)"
   ],
   "metadata": {
    "collapsed": false
   },
   "id": "6980b515d2c2e067",
   "execution_count": null
  },
  {
   "cell_type": "code",
   "outputs": [],
   "source": [
    "import pandas as pd\n",
    "\n",
    "videos_df = pd.read_csv('./data/videos.csv')\n",
    "videos_df"
   ],
   "metadata": {
    "collapsed": false
   },
   "id": "ab2473eef70b7fb",
   "execution_count": null
  },
  {
   "cell_type": "code",
   "outputs": [],
   "source": [
    "videos_df.to_sql('videos', con=engine, if_exists='append', index=False)"
   ],
   "metadata": {
    "collapsed": false
   },
   "id": "1d4c20c1329a785d",
   "execution_count": null
  },
  {
   "cell_type": "code",
   "outputs": [],
   "source": [
    "authors_df = pd.read_csv('./data/authors.csv')\n",
    "authors_df.rename(columns={'is_official_channel': 'is_official'}, inplace=True)\n",
    "authors_df"
   ],
   "metadata": {
    "collapsed": false
   },
   "id": "e22c44aa11ac2b42",
   "execution_count": null
  },
  {
   "cell_type": "code",
   "outputs": [],
   "source": [
    "authors_df.to_sql('channels', con=engine, if_exists='append', index=False)"
   ],
   "metadata": {
    "collapsed": false
   },
   "id": "ac1c85038bddd253",
   "execution_count": null
  },
  {
   "cell_type": "code",
   "outputs": [],
   "source": [
    "comments_df = pd.read_csv('./data/comments.csv')\n",
    "comments_df.rename(columns={'author_id': 'user_id'}, inplace=True)\n",
    "comments_df"
   ],
   "metadata": {
    "collapsed": false
   },
   "id": "b455045e8928117a",
   "execution_count": null
  },
  {
   "cell_type": "code",
   "outputs": [],
   "source": [
    "comments_df.to_sql('comments', con=engine, if_exists='append', index=False)"
   ],
   "metadata": {
    "collapsed": false
   },
   "id": "57524349b64f7de",
   "execution_count": null
  },
  {
   "cell_type": "code",
   "outputs": [],
   "source": [
    "comments_df.duplicated()"
   ],
   "metadata": {
    "collapsed": false
   },
   "id": "646232534f08b623",
   "execution_count": null
  }
 ],
 "metadata": {
  "kernelspec": {
   "display_name": "Python 3",
   "language": "python",
   "name": "python3"
  },
  "language_info": {
   "codemirror_mode": {
    "name": "ipython",
    "version": 2
   },
   "file_extension": ".py",
   "mimetype": "text/x-python",
   "name": "python",
   "nbconvert_exporter": "python",
   "pygments_lexer": "ipython2",
   "version": "2.7.6"
  }
 },
 "nbformat": 4,
 "nbformat_minor": 5
}
