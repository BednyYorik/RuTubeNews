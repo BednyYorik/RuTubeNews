{
 "cells": [
  {
   "cell_type": "code",
   "execution_count": 48,
   "id": "initial_id",
   "metadata": {
    "collapsed": true,
    "ExecuteTime": {
     "end_time": "2024-04-13T17:13:48.095301100Z",
     "start_time": "2024-04-13T17:13:48.088583600Z"
    }
   },
   "outputs": [],
   "source": [
    "## Подключение к БД\n",
    "\n",
    "from passwords import USER_NAME, USER_PASSWORD, DATABASE_DOMAIN, DATABASE_PORT, DATABASE_NAME\n",
    "from sqlalchemy import create_engine, Column, Integer, String, Date\n",
    "from sqlalchemy.orm import sessionmaker\n",
    "from sqlalchemy.orm import declarative_base\n",
    "\n",
    "Base =declarative_base()\n",
    "engine = create_engine(f'postgresql+psycopg2://{USER_NAME}:{USER_PASSWORD}@{DATABASE_DOMAIN}:{DATABASE_PORT}/{DATABASE_NAME}')\n",
    "Session = sessionmaker(bind=engine)\n",
    "session = Session()"
   ]
  },
  {
   "cell_type": "code",
   "outputs": [],
   "source": [
    "## Создание классов для ORM\n",
    "\n",
    "class Video(Base):\n",
    "    __tablename__ = 'videos'\n",
    "    title = Column(String)\n",
    "    id = Column(String, primary_key=True)\n",
    "    publicated = Column(Date)\n",
    "    channel = Column(String)\n",
    "    views = Column(Integer)\n",
    "    duration = Column(Integer)\n",
    "    agerating = Column(Integer)\n",
    "    description = Column(String)\n",
    "    subs_amount = Column(Integer)"
   ],
   "metadata": {
    "collapsed": false,
    "ExecuteTime": {
     "end_time": "2024-04-13T17:13:48.722864900Z",
     "start_time": "2024-04-13T17:13:48.713842300Z"
    }
   },
   "id": "5c06d69f09d3991a",
   "execution_count": 49
  },
  {
   "cell_type": "code",
   "outputs": [],
   "source": [
    "class Channel(Base):\n",
    "    __tablename__ = 'channels'\n",
    "    channel_id = Column(String, autoincrement=True, primary_key=True)\n",
    "    channel_description = Column(String)\n",
    "    channel_subscribers = Column(Integer)"
   ],
   "metadata": {
    "collapsed": false,
    "ExecuteTime": {
     "end_time": "2024-04-13T16:16:01.204069Z",
     "start_time": "2024-04-13T16:16:01.194493900Z"
    }
   },
   "id": "a3bc90d3e5edb02d",
   "execution_count": 3
  },
  {
   "cell_type": "code",
   "outputs": [],
   "source": [
    "class Comment(Base):\n",
    "    __tablename__ = 'comments'\n",
    "    id = Column(String, autoincrement=True, primary_key=True)\n",
    "    name = Column(String)\n",
    "    content = Column(String)"
   ],
   "metadata": {
    "collapsed": false
   },
   "id": "6980b515d2c2e067"
  },
  {
   "cell_type": "code",
   "outputs": [
    {
     "data": {
      "text/plain": "     Unnamed: 0                                              title  \\\n0             0  Все причастные к теракту в «Крокус Сити Холле»...   \n1             1    В Москве прошла акция солидарности с Палестиной   \n2             2  Удар по общежитию в Татарстане нанесен двумя б...   \n3             3  Девять человек пострадали при обстреле Белгоро...   \n4             4  Спецназ обнаружил и заблокировал террористов в...   \n..          ...                                                ...   \n969         969  НЕСВЕЖИЕ НОВОСТИ. КОНЕЦ ХАЙДАРОВА. ИНДИЙСКАЯ С...   \n970         970     Орнелла Мути – самая русская актриса из Италии   \n971         971  #Большая_стирка: Опозорившимся артистам не отм...   \n972         972  Сергей Лазарев ВДОХНОВИЛ МУЗ-ТВ! Анонс сериала...   \n973         973  Пугачева впервые показала лицо, изуродованное ...   \n\n                                           id           publicated  \\\n0    /video/1cbfbdd296d1e4089abdac6917757f04/  2024-04-04T01:52:45   \n1    /video/afcd7a8b4c96197c51c590a2e0d90b4a/  2024-04-04T01:29:15   \n2    /video/2a067452d11aea4e3deb6b198e245744/  2024-04-02T20:12:52   \n3    /video/cd42a47a6fff25139d42c72e761ca120/  2024-04-02T20:04:20   \n4    /video/c93030351f0cec1dc313531285308ea5/  2024-03-31T22:18:04   \n..                                        ...                  ...   \n969  /video/e377ca21153d9076b1521a579ef75bb1/  2024-03-09T13:26:48   \n970  /video/ee8acd11dd3f6846304c1a487cd99608/  2024-03-09T09:05:58   \n971  /video/a31cdbd191766998f0221a062b3eeb79/  2024-03-08T13:09:28   \n972  /video/417b789fb6a5a79a624e87e7e259b7ac/  2024-03-07T18:43:12   \n973  /video/506f16df5994ce633c9532fb1e89eac9/  2024-03-06T23:11:21   \n\n                               channel  views  duration  agerating  \\\n0                         Рупор Москвы    147       175         12   \n1                         Рупор Москвы     93       293         12   \n2                         Рупор Москвы    281        55         12   \n3                         Рупор Москвы     83       162         12   \n4                         Рупор Москвы    151       108         12   \n..                                 ...    ...       ...        ...   \n969                           DA.BRYAK   9342       575         12   \n970               Комсомольская правда    950       218         12   \n971                 Телеканал Царьград   1633       142         12   \n972                             МУЗ-ТВ    997       899         12   \n973  Телеканал 360 и Михаил Онуфриенко   6350       142         16   \n\n                                           description  subs_amount  \n0    Все причастные к теракту в «Крокус Сити Холле»...          782  \n1     В Москве прошла акция солидарности с Палестиной.          782  \n2    Удар по общежитию в Татарстане нанесен двумя б...          782  \n3    Девять человек пострадали при обстреле Белгоро...          782  \n4    Спецназ обнаружил и заблокировал террористов в...          782  \n..                                                 ...          ...  \n969  На прошедшей неделе все обсуждали очередной «п...         6997  \n970  Сегодня Орнелле Мути исполняется 69 лет! Но чт...        29596  \n971  Чувствуете? 8 Марта, прямо-таки пахнет цветами...        42214  \n972  Это МУЗ PRO-НОВОСТИ! Марафон добра от МУЗ. Кто...        13739  \n973  ⭕️Подпишитесь на канал 360: https://rutube.ru/...       144109  \n\n[974 rows x 10 columns]",
      "text/html": "<div>\n<style scoped>\n    .dataframe tbody tr th:only-of-type {\n        vertical-align: middle;\n    }\n\n    .dataframe tbody tr th {\n        vertical-align: top;\n    }\n\n    .dataframe thead th {\n        text-align: right;\n    }\n</style>\n<table border=\"1\" class=\"dataframe\">\n  <thead>\n    <tr style=\"text-align: right;\">\n      <th></th>\n      <th>Unnamed: 0</th>\n      <th>title</th>\n      <th>id</th>\n      <th>publicated</th>\n      <th>channel</th>\n      <th>views</th>\n      <th>duration</th>\n      <th>agerating</th>\n      <th>description</th>\n      <th>subs_amount</th>\n    </tr>\n  </thead>\n  <tbody>\n    <tr>\n      <th>0</th>\n      <td>0</td>\n      <td>Все причастные к теракту в «Крокус Сити Холле»...</td>\n      <td>/video/1cbfbdd296d1e4089abdac6917757f04/</td>\n      <td>2024-04-04T01:52:45</td>\n      <td>Рупор Москвы</td>\n      <td>147</td>\n      <td>175</td>\n      <td>12</td>\n      <td>Все причастные к теракту в «Крокус Сити Холле»...</td>\n      <td>782</td>\n    </tr>\n    <tr>\n      <th>1</th>\n      <td>1</td>\n      <td>В Москве прошла акция солидарности с Палестиной</td>\n      <td>/video/afcd7a8b4c96197c51c590a2e0d90b4a/</td>\n      <td>2024-04-04T01:29:15</td>\n      <td>Рупор Москвы</td>\n      <td>93</td>\n      <td>293</td>\n      <td>12</td>\n      <td>В Москве прошла акция солидарности с Палестиной.</td>\n      <td>782</td>\n    </tr>\n    <tr>\n      <th>2</th>\n      <td>2</td>\n      <td>Удар по общежитию в Татарстане нанесен двумя б...</td>\n      <td>/video/2a067452d11aea4e3deb6b198e245744/</td>\n      <td>2024-04-02T20:12:52</td>\n      <td>Рупор Москвы</td>\n      <td>281</td>\n      <td>55</td>\n      <td>12</td>\n      <td>Удар по общежитию в Татарстане нанесен двумя б...</td>\n      <td>782</td>\n    </tr>\n    <tr>\n      <th>3</th>\n      <td>3</td>\n      <td>Девять человек пострадали при обстреле Белгоро...</td>\n      <td>/video/cd42a47a6fff25139d42c72e761ca120/</td>\n      <td>2024-04-02T20:04:20</td>\n      <td>Рупор Москвы</td>\n      <td>83</td>\n      <td>162</td>\n      <td>12</td>\n      <td>Девять человек пострадали при обстреле Белгоро...</td>\n      <td>782</td>\n    </tr>\n    <tr>\n      <th>4</th>\n      <td>4</td>\n      <td>Спецназ обнаружил и заблокировал террористов в...</td>\n      <td>/video/c93030351f0cec1dc313531285308ea5/</td>\n      <td>2024-03-31T22:18:04</td>\n      <td>Рупор Москвы</td>\n      <td>151</td>\n      <td>108</td>\n      <td>12</td>\n      <td>Спецназ обнаружил и заблокировал террористов в...</td>\n      <td>782</td>\n    </tr>\n    <tr>\n      <th>...</th>\n      <td>...</td>\n      <td>...</td>\n      <td>...</td>\n      <td>...</td>\n      <td>...</td>\n      <td>...</td>\n      <td>...</td>\n      <td>...</td>\n      <td>...</td>\n      <td>...</td>\n    </tr>\n    <tr>\n      <th>969</th>\n      <td>969</td>\n      <td>НЕСВЕЖИЕ НОВОСТИ. КОНЕЦ ХАЙДАРОВА. ИНДИЙСКАЯ С...</td>\n      <td>/video/e377ca21153d9076b1521a579ef75bb1/</td>\n      <td>2024-03-09T13:26:48</td>\n      <td>DA.BRYAK</td>\n      <td>9342</td>\n      <td>575</td>\n      <td>12</td>\n      <td>На прошедшей неделе все обсуждали очередной «п...</td>\n      <td>6997</td>\n    </tr>\n    <tr>\n      <th>970</th>\n      <td>970</td>\n      <td>Орнелла Мути – самая русская актриса из Италии</td>\n      <td>/video/ee8acd11dd3f6846304c1a487cd99608/</td>\n      <td>2024-03-09T09:05:58</td>\n      <td>Комсомольская правда</td>\n      <td>950</td>\n      <td>218</td>\n      <td>12</td>\n      <td>Сегодня Орнелле Мути исполняется 69 лет! Но чт...</td>\n      <td>29596</td>\n    </tr>\n    <tr>\n      <th>971</th>\n      <td>971</td>\n      <td>#Большая_стирка: Опозорившимся артистам не отм...</td>\n      <td>/video/a31cdbd191766998f0221a062b3eeb79/</td>\n      <td>2024-03-08T13:09:28</td>\n      <td>Телеканал Царьград</td>\n      <td>1633</td>\n      <td>142</td>\n      <td>12</td>\n      <td>Чувствуете? 8 Марта, прямо-таки пахнет цветами...</td>\n      <td>42214</td>\n    </tr>\n    <tr>\n      <th>972</th>\n      <td>972</td>\n      <td>Сергей Лазарев ВДОХНОВИЛ МУЗ-ТВ! Анонс сериала...</td>\n      <td>/video/417b789fb6a5a79a624e87e7e259b7ac/</td>\n      <td>2024-03-07T18:43:12</td>\n      <td>МУЗ-ТВ</td>\n      <td>997</td>\n      <td>899</td>\n      <td>12</td>\n      <td>Это МУЗ PRO-НОВОСТИ! Марафон добра от МУЗ. Кто...</td>\n      <td>13739</td>\n    </tr>\n    <tr>\n      <th>973</th>\n      <td>973</td>\n      <td>Пугачева впервые показала лицо, изуродованное ...</td>\n      <td>/video/506f16df5994ce633c9532fb1e89eac9/</td>\n      <td>2024-03-06T23:11:21</td>\n      <td>Телеканал 360 и Михаил Онуфриенко</td>\n      <td>6350</td>\n      <td>142</td>\n      <td>16</td>\n      <td>⭕️Подпишитесь на канал 360: https://rutube.ru/...</td>\n      <td>144109</td>\n    </tr>\n  </tbody>\n</table>\n<p>974 rows × 10 columns</p>\n</div>"
     },
     "execution_count": 50,
     "metadata": {},
     "output_type": "execute_result"
    }
   ],
   "source": [
    "import pandas as pd\n",
    "\n",
    "videos_df = pd.read_csv('./out.csv')\n",
    "videos_df"
   ],
   "metadata": {
    "collapsed": false,
    "ExecuteTime": {
     "end_time": "2024-04-13T17:13:52.722137900Z",
     "start_time": "2024-04-13T17:13:52.676284300Z"
    }
   },
   "id": "ab2473eef70b7fb",
   "execution_count": 50
  },
  {
   "cell_type": "code",
   "outputs": [
    {
     "data": {
      "text/plain": "                                                 title  \\\n0    Все причастные к теракту в «Крокус Сити Холле»...   \n1      В Москве прошла акция солидарности с Палестиной   \n2    Удар по общежитию в Татарстане нанесен двумя б...   \n3    Девять человек пострадали при обстреле Белгоро...   \n4    Спецназ обнаружил и заблокировал террористов в...   \n..                                                 ...   \n969  НЕСВЕЖИЕ НОВОСТИ. КОНЕЦ ХАЙДАРОВА. ИНДИЙСКАЯ С...   \n970     Орнелла Мути – самая русская актриса из Италии   \n971  #Большая_стирка: Опозорившимся артистам не отм...   \n972  Сергей Лазарев ВДОХНОВИЛ МУЗ-ТВ! Анонс сериала...   \n973  Пугачева впервые показала лицо, изуродованное ...   \n\n                                           id           publicated  \\\n0    /video/1cbfbdd296d1e4089abdac6917757f04/  2024-04-04T01:52:45   \n1    /video/afcd7a8b4c96197c51c590a2e0d90b4a/  2024-04-04T01:29:15   \n2    /video/2a067452d11aea4e3deb6b198e245744/  2024-04-02T20:12:52   \n3    /video/cd42a47a6fff25139d42c72e761ca120/  2024-04-02T20:04:20   \n4    /video/c93030351f0cec1dc313531285308ea5/  2024-03-31T22:18:04   \n..                                        ...                  ...   \n969  /video/e377ca21153d9076b1521a579ef75bb1/  2024-03-09T13:26:48   \n970  /video/ee8acd11dd3f6846304c1a487cd99608/  2024-03-09T09:05:58   \n971  /video/a31cdbd191766998f0221a062b3eeb79/  2024-03-08T13:09:28   \n972  /video/417b789fb6a5a79a624e87e7e259b7ac/  2024-03-07T18:43:12   \n973  /video/506f16df5994ce633c9532fb1e89eac9/  2024-03-06T23:11:21   \n\n                               channel  views  duration  agerating  \\\n0                         Рупор Москвы    147       175         12   \n1                         Рупор Москвы     93       293         12   \n2                         Рупор Москвы    281        55         12   \n3                         Рупор Москвы     83       162         12   \n4                         Рупор Москвы    151       108         12   \n..                                 ...    ...       ...        ...   \n969                           DA.BRYAK   9342       575         12   \n970               Комсомольская правда    950       218         12   \n971                 Телеканал Царьград   1633       142         12   \n972                             МУЗ-ТВ    997       899         12   \n973  Телеканал 360 и Михаил Онуфриенко   6350       142         16   \n\n                                           description  subs_amount  \n0    Все причастные к теракту в «Крокус Сити Холле»...          782  \n1     В Москве прошла акция солидарности с Палестиной.          782  \n2    Удар по общежитию в Татарстане нанесен двумя б...          782  \n3    Девять человек пострадали при обстреле Белгоро...          782  \n4    Спецназ обнаружил и заблокировал террористов в...          782  \n..                                                 ...          ...  \n969  На прошедшей неделе все обсуждали очередной «п...         6997  \n970  Сегодня Орнелле Мути исполняется 69 лет! Но чт...        29596  \n971  Чувствуете? 8 Марта, прямо-таки пахнет цветами...        42214  \n972  Это МУЗ PRO-НОВОСТИ! Марафон добра от МУЗ. Кто...        13739  \n973  ⭕️Подпишитесь на канал 360: https://rutube.ru/...       144109  \n\n[974 rows x 9 columns]",
      "text/html": "<div>\n<style scoped>\n    .dataframe tbody tr th:only-of-type {\n        vertical-align: middle;\n    }\n\n    .dataframe tbody tr th {\n        vertical-align: top;\n    }\n\n    .dataframe thead th {\n        text-align: right;\n    }\n</style>\n<table border=\"1\" class=\"dataframe\">\n  <thead>\n    <tr style=\"text-align: right;\">\n      <th></th>\n      <th>title</th>\n      <th>id</th>\n      <th>publicated</th>\n      <th>channel</th>\n      <th>views</th>\n      <th>duration</th>\n      <th>agerating</th>\n      <th>description</th>\n      <th>subs_amount</th>\n    </tr>\n  </thead>\n  <tbody>\n    <tr>\n      <th>0</th>\n      <td>Все причастные к теракту в «Крокус Сити Холле»...</td>\n      <td>/video/1cbfbdd296d1e4089abdac6917757f04/</td>\n      <td>2024-04-04T01:52:45</td>\n      <td>Рупор Москвы</td>\n      <td>147</td>\n      <td>175</td>\n      <td>12</td>\n      <td>Все причастные к теракту в «Крокус Сити Холле»...</td>\n      <td>782</td>\n    </tr>\n    <tr>\n      <th>1</th>\n      <td>В Москве прошла акция солидарности с Палестиной</td>\n      <td>/video/afcd7a8b4c96197c51c590a2e0d90b4a/</td>\n      <td>2024-04-04T01:29:15</td>\n      <td>Рупор Москвы</td>\n      <td>93</td>\n      <td>293</td>\n      <td>12</td>\n      <td>В Москве прошла акция солидарности с Палестиной.</td>\n      <td>782</td>\n    </tr>\n    <tr>\n      <th>2</th>\n      <td>Удар по общежитию в Татарстане нанесен двумя б...</td>\n      <td>/video/2a067452d11aea4e3deb6b198e245744/</td>\n      <td>2024-04-02T20:12:52</td>\n      <td>Рупор Москвы</td>\n      <td>281</td>\n      <td>55</td>\n      <td>12</td>\n      <td>Удар по общежитию в Татарстане нанесен двумя б...</td>\n      <td>782</td>\n    </tr>\n    <tr>\n      <th>3</th>\n      <td>Девять человек пострадали при обстреле Белгоро...</td>\n      <td>/video/cd42a47a6fff25139d42c72e761ca120/</td>\n      <td>2024-04-02T20:04:20</td>\n      <td>Рупор Москвы</td>\n      <td>83</td>\n      <td>162</td>\n      <td>12</td>\n      <td>Девять человек пострадали при обстреле Белгоро...</td>\n      <td>782</td>\n    </tr>\n    <tr>\n      <th>4</th>\n      <td>Спецназ обнаружил и заблокировал террористов в...</td>\n      <td>/video/c93030351f0cec1dc313531285308ea5/</td>\n      <td>2024-03-31T22:18:04</td>\n      <td>Рупор Москвы</td>\n      <td>151</td>\n      <td>108</td>\n      <td>12</td>\n      <td>Спецназ обнаружил и заблокировал террористов в...</td>\n      <td>782</td>\n    </tr>\n    <tr>\n      <th>...</th>\n      <td>...</td>\n      <td>...</td>\n      <td>...</td>\n      <td>...</td>\n      <td>...</td>\n      <td>...</td>\n      <td>...</td>\n      <td>...</td>\n      <td>...</td>\n    </tr>\n    <tr>\n      <th>969</th>\n      <td>НЕСВЕЖИЕ НОВОСТИ. КОНЕЦ ХАЙДАРОВА. ИНДИЙСКАЯ С...</td>\n      <td>/video/e377ca21153d9076b1521a579ef75bb1/</td>\n      <td>2024-03-09T13:26:48</td>\n      <td>DA.BRYAK</td>\n      <td>9342</td>\n      <td>575</td>\n      <td>12</td>\n      <td>На прошедшей неделе все обсуждали очередной «п...</td>\n      <td>6997</td>\n    </tr>\n    <tr>\n      <th>970</th>\n      <td>Орнелла Мути – самая русская актриса из Италии</td>\n      <td>/video/ee8acd11dd3f6846304c1a487cd99608/</td>\n      <td>2024-03-09T09:05:58</td>\n      <td>Комсомольская правда</td>\n      <td>950</td>\n      <td>218</td>\n      <td>12</td>\n      <td>Сегодня Орнелле Мути исполняется 69 лет! Но чт...</td>\n      <td>29596</td>\n    </tr>\n    <tr>\n      <th>971</th>\n      <td>#Большая_стирка: Опозорившимся артистам не отм...</td>\n      <td>/video/a31cdbd191766998f0221a062b3eeb79/</td>\n      <td>2024-03-08T13:09:28</td>\n      <td>Телеканал Царьград</td>\n      <td>1633</td>\n      <td>142</td>\n      <td>12</td>\n      <td>Чувствуете? 8 Марта, прямо-таки пахнет цветами...</td>\n      <td>42214</td>\n    </tr>\n    <tr>\n      <th>972</th>\n      <td>Сергей Лазарев ВДОХНОВИЛ МУЗ-ТВ! Анонс сериала...</td>\n      <td>/video/417b789fb6a5a79a624e87e7e259b7ac/</td>\n      <td>2024-03-07T18:43:12</td>\n      <td>МУЗ-ТВ</td>\n      <td>997</td>\n      <td>899</td>\n      <td>12</td>\n      <td>Это МУЗ PRO-НОВОСТИ! Марафон добра от МУЗ. Кто...</td>\n      <td>13739</td>\n    </tr>\n    <tr>\n      <th>973</th>\n      <td>Пугачева впервые показала лицо, изуродованное ...</td>\n      <td>/video/506f16df5994ce633c9532fb1e89eac9/</td>\n      <td>2024-03-06T23:11:21</td>\n      <td>Телеканал 360 и Михаил Онуфриенко</td>\n      <td>6350</td>\n      <td>142</td>\n      <td>16</td>\n      <td>⭕️Подпишитесь на канал 360: https://rutube.ru/...</td>\n      <td>144109</td>\n    </tr>\n  </tbody>\n</table>\n<p>974 rows × 9 columns</p>\n</div>"
     },
     "execution_count": 51,
     "metadata": {},
     "output_type": "execute_result"
    }
   ],
   "source": [
    "videos_df.drop(columns=['Unnamed: 0'], inplace=True)\n",
    "videos_df"
   ],
   "metadata": {
    "collapsed": false,
    "ExecuteTime": {
     "end_time": "2024-04-13T17:13:55.803478300Z",
     "start_time": "2024-04-13T17:13:55.793476300Z"
    }
   },
   "id": "88ae03b83faaf299",
   "execution_count": 51
  },
  {
   "cell_type": "code",
   "outputs": [
    {
     "data": {
      "text/plain": "974"
     },
     "execution_count": 52,
     "metadata": {},
     "output_type": "execute_result"
    }
   ],
   "source": [
    "videos_df.to_sql('videos', con=engine, if_exists='append', index=False)"
   ],
   "metadata": {
    "collapsed": false,
    "ExecuteTime": {
     "end_time": "2024-04-13T17:13:59.324328200Z",
     "start_time": "2024-04-13T17:13:58.621612200Z"
    }
   },
   "id": "f5a1553c42f9d4a0",
   "execution_count": 52
  }
 ],
 "metadata": {
  "kernelspec": {
   "display_name": "Python 3",
   "language": "python",
   "name": "python3"
  },
  "language_info": {
   "codemirror_mode": {
    "name": "ipython",
    "version": 2
   },
   "file_extension": ".py",
   "mimetype": "text/x-python",
   "name": "python",
   "nbconvert_exporter": "python",
   "pygments_lexer": "ipython2",
   "version": "2.7.6"
  }
 },
 "nbformat": 4,
 "nbformat_minor": 5
}
