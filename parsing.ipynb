{
 "cells": [
  {
   "cell_type": "code",
   "execution_count": null,
   "id": "initial_id",
   "metadata": {
    "collapsed": true
   },
   "outputs": [],
   "source": [
    "import httpx\n",
    "import pandas as pd\n",
    "from tqdm import trange"
   ]
  },
  {
   "cell_type": "markdown",
   "source": [
    "Основная информация о видео https://rutube.ru/api/video/...\n",
    "Лайки/дизлайки https://rutube.ru/api/numerator/video/.../vote\n",
    "Комментарии https://rutube.ru/api/comments/video/...\n",
    "Информация о канале // https://rutube.ru/api/profile/user/..."
   ],
   "metadata": {
    "collapsed": false
   },
   "id": "8289da52c3c51f96"
  },
  {
   "cell_type": "code",
   "execution_count": null,
   "outputs": [],
   "source": [
    "videos_df = pd.DataFrame(columns=['url', 'title','description', 'hits', 'duration', 'likes', 'dislikes', 'comments_count', 'author_id', 'created_ts', 'publication_ts'])\n",
    "videos_df"
   ],
   "metadata": {
    "collapsed": false
   },
   "id": "c73dfc84e0943391"
  },
  {
   "cell_type": "code",
   "outputs": [],
   "source": [
    "authors_df = pd.DataFrame(columns=['id', 'channel_name', 'channel_description', 'followers', 'is_official_channel'])\n",
    "authors_df"
   ],
   "metadata": {
    "collapsed": false
   },
   "id": "ed29a8184bf0ce87",
   "execution_count": null
  },
  {
   "cell_type": "code",
   "outputs": [],
   "source": [
    "comments_df = pd.DataFrame(columns=['id', 'video_id', 'author_id', 'text', 'created_ts', 'likes', 'dislikes', 'replies_count'])\n",
    "comments_df"
   ],
   "metadata": {
    "collapsed": false
   },
   "id": "986f6c4341278151",
   "execution_count": null
  },
  {
   "cell_type": "code",
   "execution_count": null,
   "outputs": [],
   "source": [
    "for page_num in trange(1,2):\n",
    "    videos = httpx.get(f'https://rutube.ru/api/video/category/8/?page={page_num}')\n",
    "    videos_json = videos.json()\n",
    "    for video in videos_json['results']:\n",
    "        videos_df.loc[len(videos_df.index), ['url', 'author_id']] = [video['id'], video['author']['id']]"
   ],
   "metadata": {
    "collapsed": false
   },
   "id": "3a3240a7d3f40fc8"
  },
  {
   "cell_type": "code",
   "execution_count": null,
   "outputs": [],
   "source": [
    "videos_df"
   ],
   "metadata": {
    "collapsed": false
   },
   "id": "947b16211e7eddd"
  },
  {
   "cell_type": "code",
   "execution_count": null,
   "outputs": [],
   "source": [
    "videos_df.to_csv('./data/videos.csv', index=False)\n",
    "authors_df.to_csv('./data/authors.csv', index=False)\n",
    "comments_df.to_csv('./data/comments.csv', index=False)"
   ],
   "metadata": {
    "collapsed": false
   },
   "id": "8d73b505ee61a6fe"
  }
 ],
 "metadata": {
  "kernelspec": {
   "display_name": "Python 3",
   "language": "python",
   "name": "python3"
  },
  "language_info": {
   "codemirror_mode": {
    "name": "ipython",
    "version": 2
   },
   "file_extension": ".py",
   "mimetype": "text/x-python",
   "name": "python",
   "nbconvert_exporter": "python",
   "pygments_lexer": "ipython2",
   "version": "2.7.6"
  }
 },
 "nbformat": 4,
 "nbformat_minor": 5
}
