{
 "cells": [
  {
   "cell_type": "code",
   "execution_count": null,
   "id": "initial_id",
   "metadata": {
    "collapsed": true
   },
   "outputs": [],
   "source": [
    "import httpx\n",
    "import pandas as pd\n",
    "from tqdm import trange"
   ]
  },
  {
   "cell_type": "code",
   "execution_count": null,
   "outputs": [],
   "source": [
    "videos_df = pd.DataFrame(columns=['url', 'title','description', 'duration', 'likes', 'dislikes', 'comments_count', 'author_id', 'created_ts', 'publication_ts'])\n",
    "videos_df"
   ],
   "metadata": {
    "collapsed": false
   },
   "id": "c73dfc84e0943391"
  },
  {
   "cell_type": "code",
   "execution_count": null,
   "outputs": [],
   "source": [
    "for page_num in trange(1,11):\n",
    "    videos = httpx.get(f'https://rutube.ru/api/video/category/8/?page={page_num}')\n",
    "    videos_json = videos.json()\n",
    "    for video in videos_json['results']:\n",
    "        if video['publication_ts'] is not None:\n",
    "            videos_df.loc[len(videos_df.index)] = [video['id'], video['title'], video['description'],video['duration'], None, None, None, video['author']['id'], video['created_ts'], video['publication_ts']]"
   ],
   "metadata": {
    "collapsed": false
   },
   "id": "3a3240a7d3f40fc8"
  },
  {
   "cell_type": "code",
   "execution_count": null,
   "outputs": [],
   "source": [
    "videos_df"
   ],
   "metadata": {
    "collapsed": false
   },
   "id": "947b16211e7eddd"
  },
  {
   "cell_type": "code",
   "execution_count": null,
   "outputs": [],
   "source": [
    "videos_df.to_csv('./data/videos.csv', index=False)"
   ],
   "metadata": {
    "collapsed": false
   },
   "id": "8d73b505ee61a6fe"
  },
  {
   "cell_type": "code",
   "execution_count": null,
   "outputs": [],
   "source": [
    "authors = list(videos_df['author_id'].unique())\n",
    "authors"
   ],
   "metadata": {
    "collapsed": false
   },
   "id": "4a260ab06045de74"
  }
 ],
 "metadata": {
  "kernelspec": {
   "display_name": "Python 3",
   "language": "python",
   "name": "python3"
  },
  "language_info": {
   "codemirror_mode": {
    "name": "ipython",
    "version": 2
   },
   "file_extension": ".py",
   "mimetype": "text/x-python",
   "name": "python",
   "nbconvert_exporter": "python",
   "pygments_lexer": "ipython2",
   "version": "2.7.6"
  }
 },
 "nbformat": 4,
 "nbformat_minor": 5
}
