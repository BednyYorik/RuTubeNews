{
 "cells": [
  {
   "cell_type": "code",
   "execution_count": 1,
   "id": "initial_id",
   "metadata": {
    "collapsed": true,
    "ExecuteTime": {
     "end_time": "2024-04-28T09:37:20.724527700Z",
     "start_time": "2024-04-28T09:37:19.582055700Z"
    }
   },
   "outputs": [],
   "source": [
    "import httpx\n",
    "import pandas as pd\n",
    "from tqdm import trange"
   ]
  },
  {
   "cell_type": "markdown",
   "source": [
    "Основная информация о видео https://rutube.ru/api/video/...\n",
    "Лайки/дизлайки https://rutube.ru/api/numerator/video/.../vote\n",
    "Комментарии https://rutube.ru/api/comments/video/...\n",
    "Информация о канале // https://rutube.ru/api/profile/user/..."
   ],
   "metadata": {
    "collapsed": false
   },
   "id": "8289da52c3c51f96"
  },
  {
   "cell_type": "code",
   "execution_count": 2,
   "outputs": [
    {
     "data": {
      "text/plain": "Empty DataFrame\nColumns: [url, title, description, hits, duration, likes, dislikes, comments_count, author_id, created_ts, publication_ts]\nIndex: []",
      "text/html": "<div>\n<style scoped>\n    .dataframe tbody tr th:only-of-type {\n        vertical-align: middle;\n    }\n\n    .dataframe tbody tr th {\n        vertical-align: top;\n    }\n\n    .dataframe thead th {\n        text-align: right;\n    }\n</style>\n<table border=\"1\" class=\"dataframe\">\n  <thead>\n    <tr style=\"text-align: right;\">\n      <th></th>\n      <th>url</th>\n      <th>title</th>\n      <th>description</th>\n      <th>hits</th>\n      <th>duration</th>\n      <th>likes</th>\n      <th>dislikes</th>\n      <th>comments_count</th>\n      <th>author_id</th>\n      <th>created_ts</th>\n      <th>publication_ts</th>\n    </tr>\n  </thead>\n  <tbody>\n  </tbody>\n</table>\n</div>"
     },
     "execution_count": 2,
     "metadata": {},
     "output_type": "execute_result"
    }
   ],
   "source": [
    "videos_df = pd.DataFrame(columns=['url', 'title','description', 'hits', 'duration', 'likes', 'dislikes', 'comments_count', 'author_id', 'created_ts', 'publication_ts'])\n",
    "videos_df"
   ],
   "metadata": {
    "collapsed": false,
    "ExecuteTime": {
     "end_time": "2024-04-28T09:37:23.073841300Z",
     "start_time": "2024-04-28T09:37:22.961532300Z"
    }
   },
   "id": "c73dfc84e0943391"
  },
  {
   "cell_type": "code",
   "outputs": [
    {
     "data": {
      "text/plain": "Empty DataFrame\nColumns: [id, channel_name, channel_description, followers, is_official_channel]\nIndex: []",
      "text/html": "<div>\n<style scoped>\n    .dataframe tbody tr th:only-of-type {\n        vertical-align: middle;\n    }\n\n    .dataframe tbody tr th {\n        vertical-align: top;\n    }\n\n    .dataframe thead th {\n        text-align: right;\n    }\n</style>\n<table border=\"1\" class=\"dataframe\">\n  <thead>\n    <tr style=\"text-align: right;\">\n      <th></th>\n      <th>id</th>\n      <th>channel_name</th>\n      <th>channel_description</th>\n      <th>followers</th>\n      <th>is_official_channel</th>\n    </tr>\n  </thead>\n  <tbody>\n  </tbody>\n</table>\n</div>"
     },
     "execution_count": 3,
     "metadata": {},
     "output_type": "execute_result"
    }
   ],
   "source": [
    "authors_df = pd.DataFrame(columns=['id', 'channel_name', 'channel_description', 'followers', 'is_official_channel'])\n",
    "authors_df"
   ],
   "metadata": {
    "collapsed": false,
    "ExecuteTime": {
     "end_time": "2024-04-28T09:37:24.686427500Z",
     "start_time": "2024-04-28T09:37:24.654827300Z"
    }
   },
   "id": "ed29a8184bf0ce87",
   "execution_count": 3
  },
  {
   "cell_type": "code",
   "outputs": [
    {
     "data": {
      "text/plain": "Empty DataFrame\nColumns: [id, video_id, author_id, text, created_ts, likes, dislikes, replies_count]\nIndex: []",
      "text/html": "<div>\n<style scoped>\n    .dataframe tbody tr th:only-of-type {\n        vertical-align: middle;\n    }\n\n    .dataframe tbody tr th {\n        vertical-align: top;\n    }\n\n    .dataframe thead th {\n        text-align: right;\n    }\n</style>\n<table border=\"1\" class=\"dataframe\">\n  <thead>\n    <tr style=\"text-align: right;\">\n      <th></th>\n      <th>id</th>\n      <th>video_id</th>\n      <th>author_id</th>\n      <th>text</th>\n      <th>created_ts</th>\n      <th>likes</th>\n      <th>dislikes</th>\n      <th>replies_count</th>\n    </tr>\n  </thead>\n  <tbody>\n  </tbody>\n</table>\n</div>"
     },
     "execution_count": 4,
     "metadata": {},
     "output_type": "execute_result"
    }
   ],
   "source": [
    "comments_df = pd.DataFrame(columns=['id', 'video_id', 'author_id', 'text', 'created_ts', 'likes', 'dislikes', 'replies_count'])\n",
    "comments_df"
   ],
   "metadata": {
    "collapsed": false,
    "ExecuteTime": {
     "end_time": "2024-04-28T09:37:26.634027500Z",
     "start_time": "2024-04-28T09:37:26.580995800Z"
    }
   },
   "id": "986f6c4341278151",
   "execution_count": 4
  },
  {
   "cell_type": "code",
   "execution_count": 5,
   "outputs": [
    {
     "name": "stderr",
     "output_type": "stream",
     "text": [
      "100%|██████████| 1/1 [00:00<00:00,  1.13it/s]\n"
     ]
    }
   ],
   "source": [
    "for page_num in trange(1,2):\n",
    "    videos = httpx.get(f'https://rutube.ru/api/video/category/8/?page={page_num}')\n",
    "    videos_json = videos.json()\n",
    "    for video in videos_json['results']:\n",
    "        videos_df.loc[len(videos_df.index), 'url'] = video['id']"
   ],
   "metadata": {
    "collapsed": false,
    "ExecuteTime": {
     "end_time": "2024-04-28T09:37:29.833351600Z",
     "start_time": "2024-04-28T09:37:28.885166900Z"
    }
   },
   "id": "3a3240a7d3f40fc8"
  },
  {
   "cell_type": "code",
   "execution_count": 6,
   "outputs": [
    {
     "data": {
      "text/plain": "                                 url title description hits duration likes  \\\n0   0006580cbbb03928c633bca451ab035f   NaN         NaN  NaN      NaN   NaN   \n1   0b5f72b72f58bb9535f755c6794fae71   NaN         NaN  NaN      NaN   NaN   \n2   127043fd2c5108b4536d708e1463419e   NaN         NaN  NaN      NaN   NaN   \n3   172a037a17a3a9a33a3513dc6e1696d2   NaN         NaN  NaN      NaN   NaN   \n4   1ccaebb582723bccc71a979eb2558bd1   NaN         NaN  NaN      NaN   NaN   \n..                               ...   ...         ...  ...      ...   ...   \n95  81f8bbf24f2c73bc2c040c90fd2648f8   NaN         NaN  NaN      NaN   NaN   \n96  4ab69c5364362ebafc20bb190d282316   NaN         NaN  NaN      NaN   NaN   \n97  2f9a94817be3d58f209e42394ad41fff   NaN         NaN  NaN      NaN   NaN   \n98  34a6687124c2a53ed0b4e367c9e01618   NaN         NaN  NaN      NaN   NaN   \n99  bff20999a83b1dbf7b811250f0c1bef7   NaN         NaN  NaN      NaN   NaN   \n\n   dislikes comments_count author_id created_ts publication_ts  \n0       NaN            NaN       NaN        NaN            NaN  \n1       NaN            NaN       NaN        NaN            NaN  \n2       NaN            NaN       NaN        NaN            NaN  \n3       NaN            NaN       NaN        NaN            NaN  \n4       NaN            NaN       NaN        NaN            NaN  \n..      ...            ...       ...        ...            ...  \n95      NaN            NaN       NaN        NaN            NaN  \n96      NaN            NaN       NaN        NaN            NaN  \n97      NaN            NaN       NaN        NaN            NaN  \n98      NaN            NaN       NaN        NaN            NaN  \n99      NaN            NaN       NaN        NaN            NaN  \n\n[100 rows x 11 columns]",
      "text/html": "<div>\n<style scoped>\n    .dataframe tbody tr th:only-of-type {\n        vertical-align: middle;\n    }\n\n    .dataframe tbody tr th {\n        vertical-align: top;\n    }\n\n    .dataframe thead th {\n        text-align: right;\n    }\n</style>\n<table border=\"1\" class=\"dataframe\">\n  <thead>\n    <tr style=\"text-align: right;\">\n      <th></th>\n      <th>url</th>\n      <th>title</th>\n      <th>description</th>\n      <th>hits</th>\n      <th>duration</th>\n      <th>likes</th>\n      <th>dislikes</th>\n      <th>comments_count</th>\n      <th>author_id</th>\n      <th>created_ts</th>\n      <th>publication_ts</th>\n    </tr>\n  </thead>\n  <tbody>\n    <tr>\n      <th>0</th>\n      <td>0006580cbbb03928c633bca451ab035f</td>\n      <td>NaN</td>\n      <td>NaN</td>\n      <td>NaN</td>\n      <td>NaN</td>\n      <td>NaN</td>\n      <td>NaN</td>\n      <td>NaN</td>\n      <td>NaN</td>\n      <td>NaN</td>\n      <td>NaN</td>\n    </tr>\n    <tr>\n      <th>1</th>\n      <td>0b5f72b72f58bb9535f755c6794fae71</td>\n      <td>NaN</td>\n      <td>NaN</td>\n      <td>NaN</td>\n      <td>NaN</td>\n      <td>NaN</td>\n      <td>NaN</td>\n      <td>NaN</td>\n      <td>NaN</td>\n      <td>NaN</td>\n      <td>NaN</td>\n    </tr>\n    <tr>\n      <th>2</th>\n      <td>127043fd2c5108b4536d708e1463419e</td>\n      <td>NaN</td>\n      <td>NaN</td>\n      <td>NaN</td>\n      <td>NaN</td>\n      <td>NaN</td>\n      <td>NaN</td>\n      <td>NaN</td>\n      <td>NaN</td>\n      <td>NaN</td>\n      <td>NaN</td>\n    </tr>\n    <tr>\n      <th>3</th>\n      <td>172a037a17a3a9a33a3513dc6e1696d2</td>\n      <td>NaN</td>\n      <td>NaN</td>\n      <td>NaN</td>\n      <td>NaN</td>\n      <td>NaN</td>\n      <td>NaN</td>\n      <td>NaN</td>\n      <td>NaN</td>\n      <td>NaN</td>\n      <td>NaN</td>\n    </tr>\n    <tr>\n      <th>4</th>\n      <td>1ccaebb582723bccc71a979eb2558bd1</td>\n      <td>NaN</td>\n      <td>NaN</td>\n      <td>NaN</td>\n      <td>NaN</td>\n      <td>NaN</td>\n      <td>NaN</td>\n      <td>NaN</td>\n      <td>NaN</td>\n      <td>NaN</td>\n      <td>NaN</td>\n    </tr>\n    <tr>\n      <th>...</th>\n      <td>...</td>\n      <td>...</td>\n      <td>...</td>\n      <td>...</td>\n      <td>...</td>\n      <td>...</td>\n      <td>...</td>\n      <td>...</td>\n      <td>...</td>\n      <td>...</td>\n      <td>...</td>\n    </tr>\n    <tr>\n      <th>95</th>\n      <td>81f8bbf24f2c73bc2c040c90fd2648f8</td>\n      <td>NaN</td>\n      <td>NaN</td>\n      <td>NaN</td>\n      <td>NaN</td>\n      <td>NaN</td>\n      <td>NaN</td>\n      <td>NaN</td>\n      <td>NaN</td>\n      <td>NaN</td>\n      <td>NaN</td>\n    </tr>\n    <tr>\n      <th>96</th>\n      <td>4ab69c5364362ebafc20bb190d282316</td>\n      <td>NaN</td>\n      <td>NaN</td>\n      <td>NaN</td>\n      <td>NaN</td>\n      <td>NaN</td>\n      <td>NaN</td>\n      <td>NaN</td>\n      <td>NaN</td>\n      <td>NaN</td>\n      <td>NaN</td>\n    </tr>\n    <tr>\n      <th>97</th>\n      <td>2f9a94817be3d58f209e42394ad41fff</td>\n      <td>NaN</td>\n      <td>NaN</td>\n      <td>NaN</td>\n      <td>NaN</td>\n      <td>NaN</td>\n      <td>NaN</td>\n      <td>NaN</td>\n      <td>NaN</td>\n      <td>NaN</td>\n      <td>NaN</td>\n    </tr>\n    <tr>\n      <th>98</th>\n      <td>34a6687124c2a53ed0b4e367c9e01618</td>\n      <td>NaN</td>\n      <td>NaN</td>\n      <td>NaN</td>\n      <td>NaN</td>\n      <td>NaN</td>\n      <td>NaN</td>\n      <td>NaN</td>\n      <td>NaN</td>\n      <td>NaN</td>\n      <td>NaN</td>\n    </tr>\n    <tr>\n      <th>99</th>\n      <td>bff20999a83b1dbf7b811250f0c1bef7</td>\n      <td>NaN</td>\n      <td>NaN</td>\n      <td>NaN</td>\n      <td>NaN</td>\n      <td>NaN</td>\n      <td>NaN</td>\n      <td>NaN</td>\n      <td>NaN</td>\n      <td>NaN</td>\n      <td>NaN</td>\n    </tr>\n  </tbody>\n</table>\n<p>100 rows × 11 columns</p>\n</div>"
     },
     "execution_count": 6,
     "metadata": {},
     "output_type": "execute_result"
    }
   ],
   "source": [
    "videos_df"
   ],
   "metadata": {
    "collapsed": false,
    "ExecuteTime": {
     "end_time": "2024-04-28T09:37:32.111503300Z",
     "start_time": "2024-04-28T09:37:32.091511700Z"
    }
   },
   "id": "947b16211e7eddd"
  },
  {
   "cell_type": "code",
   "execution_count": 7,
   "outputs": [],
   "source": [
    "videos_df.to_csv('./data/videos.csv', index=False)\n",
    "authors_df.to_csv('./data/authors.csv', index=False)\n",
    "comments_df.to_csv('./data/comments.csv', index=False)"
   ],
   "metadata": {
    "collapsed": false,
    "ExecuteTime": {
     "end_time": "2024-04-28T09:37:36.101039900Z",
     "start_time": "2024-04-28T09:37:36.075977800Z"
    }
   },
   "id": "8d73b505ee61a6fe"
  },
  {
   "cell_type": "code",
   "outputs": [],
   "source": [],
   "metadata": {
    "collapsed": false
   },
   "id": "50bb3ec91c534baf"
  }
 ],
 "metadata": {
  "kernelspec": {
   "display_name": "Python 3",
   "language": "python",
   "name": "python3"
  },
  "language_info": {
   "codemirror_mode": {
    "name": "ipython",
    "version": 2
   },
   "file_extension": ".py",
   "mimetype": "text/x-python",
   "name": "python",
   "nbconvert_exporter": "python",
   "pygments_lexer": "ipython2",
   "version": "2.7.6"
  }
 },
 "nbformat": 4,
 "nbformat_minor": 5
}
